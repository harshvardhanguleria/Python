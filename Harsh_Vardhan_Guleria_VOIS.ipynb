{
 "metadata": {
  "language_info": {
   "codemirror_mode": {
    "name": "ipython",
    "version": 3
   },
   "file_extension": ".py",
   "mimetype": "text/x-python",
   "name": "python",
   "nbconvert_exporter": "python",
   "pygments_lexer": "ipython3",
   "version": "3.8.5-final"
  },
  "orig_nbformat": 2,
  "kernelspec": {
   "name": "python_defaultSpec_1600578116033",
   "display_name": "Python 3.8.5 32-bit"
  }
 },
 "nbformat": 4,
 "nbformat_minor": 2,
 "cells": [
  {
   "source": [
    "Task 1: Identifying and importing the required libraries"
   ],
   "cell_type": "markdown",
   "metadata": {}
  },
  {
   "cell_type": "code",
   "execution_count": 4,
   "metadata": {},
   "outputs": [],
   "source": [
    "import pandas as pd\n",
    "import matplotlib as m"
   ]
  },
  {
   "source": [
    "Task 2: Data loading and Overview"
   ],
   "cell_type": "markdown",
   "metadata": {}
  },
  {
   "cell_type": "code",
   "execution_count": 6,
   "metadata": {
    "tags": []
   },
   "outputs": [
    {
     "output_type": "stream",
     "name": "stdout",
     "text": "Row ID        Order ID Order Date  Ship Date       Ship Mode Customer ID  \\\n0       1  CA-2016-152156 2016-11-08 2016-11-11    Second Class    CG-12520   \n1       2  CA-2016-152156 2016-11-08 2016-11-11    Second Class    CG-12520   \n2       3  CA-2016-138688 2016-06-12 2016-06-16    Second Class    DV-13045   \n3       4  US-2015-108966 2015-10-11 2015-10-18  Standard Class    SO-20335   \n4       5  US-2015-108966 2015-10-11 2015-10-18  Standard Class    SO-20335   \n\n     Customer Name    Segment        Country             City  ...  \\\n0      Claire Gute   Consumer  United States        Henderson  ...   \n1      Claire Gute   Consumer  United States        Henderson  ...   \n2  Darrin Van Huff  Corporate  United States      Los Angeles  ...   \n3   Sean O'Donnell   Consumer  United States  Fort Lauderdale  ...   \n4   Sean O'Donnell   Consumer  United States  Fort Lauderdale  ...   \n\n  Postal Code  Region       Product ID         Category Sub-Category  \\\n0       42420   South  FUR-BO-10001798        Furniture    Bookcases   \n1       42420   South  FUR-CH-10000454        Furniture       Chairs   \n2       90036    West  OFF-LA-10000240  Office Supplies       Labels   \n3       33311   South  FUR-TA-10000577        Furniture       Tables   \n4       33311   South  OFF-ST-10000760  Office Supplies      Storage   \n\n                                        Product Name     Sales  Quantity  \\\n0                  Bush Somerset Collection Bookcase  261.9600         2   \n1  Hon Deluxe Fabric Upholstered Stacking Chairs,...  731.9400         3   \n2  Self-Adhesive Address Labels for Typewriters b...   14.6200         2   \n3      Bretford CR4500 Series Slim Rectangular Table  957.5775         5   \n4                     Eldon Fold 'N Roll Cart System   22.3680         2   \n\n   Discount    Profit  \n0      0.00   41.9136  \n1      0.00  219.5820  \n2      0.00    6.8714  \n3      0.45 -383.0310  \n4      0.20    2.5164  \n\n[5 rows x 21 columns]\n         1  CA-2016-152156 2016-11-08 00:00:00 2016-11-11 00:00:00  \\\n0        2  CA-2016-152156          2016-11-08          2016-11-11   \n1        3  CA-2016-138688          2016-06-12          2016-06-16   \n2        4  US-2015-108966          2015-10-11          2015-10-18   \n3        5  US-2015-108966          2015-10-11          2015-10-18   \n4        6  CA-2014-115812          2014-06-09          2014-06-14   \n...    ...             ...                 ...                 ...   \n9988  9990  CA-2014-110422          2014-01-21          2014-01-23   \n9989  9991  CA-2017-121258          2017-02-26          2017-03-03   \n9990  9992  CA-2017-121258          2017-02-26          2017-03-03   \n9991  9993  CA-2017-121258          2017-02-26          2017-03-03   \n9992  9994  CA-2017-119914          2017-05-04          2017-05-09   \n\n        Second Class  CG-12520       Claire Gute   Consumer  United States  \\\n0       Second Class  CG-12520       Claire Gute   Consumer  United States   \n1       Second Class  DV-13045   Darrin Van Huff  Corporate  United States   \n2     Standard Class  SO-20335    Sean O'Donnell   Consumer  United States   \n3     Standard Class  SO-20335    Sean O'Donnell   Consumer  United States   \n4     Standard Class  BH-11710   Brosina Hoffman   Consumer  United States   \n...              ...       ...               ...        ...            ...   \n9988    Second Class  TB-21400  Tom Boeckenhauer   Consumer  United States   \n9989  Standard Class  DB-13060       Dave Brooks   Consumer  United States   \n9990  Standard Class  DB-13060       Dave Brooks   Consumer  United States   \n9991  Standard Class  DB-13060       Dave Brooks   Consumer  United States   \n9992    Second Class  CC-12220      Chris Cortes   Consumer  United States   \n\n            Henderson  ...  42420  South  FUR-BO-10001798        Furniture  \\\n0           Henderson  ...  42420  South  FUR-CH-10000454        Furniture   \n1         Los Angeles  ...  90036   West  OFF-LA-10000240  Office Supplies   \n2     Fort Lauderdale  ...  33311  South  FUR-TA-10000577        Furniture   \n3     Fort Lauderdale  ...  33311  South  OFF-ST-10000760  Office Supplies   \n4         Los Angeles  ...  90032   West  FUR-FU-10001487        Furniture   \n...               ...  ...    ...    ...              ...              ...   \n9988            Miami  ...  33180  South  FUR-FU-10001889        Furniture   \n9989       Costa Mesa  ...  92627   West  FUR-FU-10000747        Furniture   \n9990       Costa Mesa  ...  92627   West  TEC-PH-10003645       Technology   \n9991       Costa Mesa  ...  92627   West  OFF-PA-10004041  Office Supplies   \n9992      Westminster  ...  92683   West  OFF-AP-10002684  Office Supplies   \n\n        Bookcases                  Bush Somerset Collection Bookcase  \\\n0          Chairs  Hon Deluxe Fabric Upholstered Stacking Chairs,...   \n1          Labels  Self-Adhesive Address Labels for Typewriters b...   \n2          Tables      Bretford CR4500 Series Slim Rectangular Table   \n3         Storage                     Eldon Fold 'N Roll Cart System   \n4     Furnishings  Eldon Expressions Wood and Plastic Desk Access...   \n...           ...                                                ...   \n9988  Furnishings                             Ultra Door Pull Handle   \n9989  Furnishings  Tenex B1-RE Series Chair Mats for Low Pile Car...   \n9990       Phones                              Aastra 57i VoIP phone   \n9991        Paper  It's Hot Message Books with Stickers, 2 3/4\" x 5\"   \n9992   Appliances  Acco 7-Outlet Masterpiece Power Center, Wihtou...   \n\n        261.96  2     0   41.9136  \n0     731.9400  3  0.00  219.5820  \n1      14.6200  2  0.00    6.8714  \n2     957.5775  5  0.45 -383.0310  \n3      22.3680  2  0.20    2.5164  \n4      48.8600  7  0.00   14.1694  \n...        ... ..   ...       ...  \n9988   25.2480  3  0.20    4.1028  \n9989   91.9600  2  0.00   15.6332  \n9990  258.5760  2  0.20   19.3932  \n9991   29.6000  4  0.00   13.3200  \n9992  243.1600  2  0.00   72.9480  \n\n[9993 rows x 21 columns]\n"
    }
   ],
   "source": [
    "df = pd.read_excel(\"D:\\Codes\\Python\\Superstore.xls\", nrows=5)\n",
    "df2 = pd.read_excel(\"D:\\Codes\\Python\\Superstore.xls\", header = 1)\n",
    "print(df)\n",
    "print(df2)"
   ]
  }
 ]
}