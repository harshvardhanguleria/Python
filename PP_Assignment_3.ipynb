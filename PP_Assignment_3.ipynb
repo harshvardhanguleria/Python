{
 "metadata": {
  "language_info": {
   "codemirror_mode": {
    "name": "ipython",
    "version": 3
   },
   "file_extension": ".py",
   "mimetype": "text/x-python",
   "name": "python",
   "nbconvert_exporter": "python",
   "pygments_lexer": "ipython3",
   "version": "3.8.5-final"
  },
  "orig_nbformat": 2,
  "kernelspec": {
   "name": "python38332bit82083c4cafa84bc394a94b70bc899f60",
   "display_name": "Python 3.8.3 32-bit"
  }
 },
 "nbformat": 4,
 "nbformat_minor": 2,
 "cells": [
  {
   "cell_type": "code",
   "execution_count": 1,
   "metadata": {
    "tags": []
   },
   "outputs": [
    {
     "output_type": "stream",
     "name": "stdout",
     "text": "H is an upper case character\ne is a lower case character\nl is a lower case character\nl is a lower case character\no is a lower case character\n  is a white space\n1 is a digit\n2 is a digit\n3 is a digit\n"
    }
   ],
   "source": [
    "string = input(\"Enter a string: \")\n",
    "for a in string:\n",
    "    if a.isdigit():\n",
    "        print(a, \"is a digit\")\n",
    "    elif a.isupper():\n",
    "        print(a, \"is an upper case character\")\n",
    "    elif a.islower():\n",
    "        print(a, \"is a lower case character\")\n",
    "    elif a == \" \":\n",
    "        print(a, \"is a white space\")\n",
    "    else:\n",
    "        print(a, \"is a special character\")"
   ]
  },
  {
   "cell_type": "code",
   "execution_count": 2,
   "metadata": {
    "tags": []
   },
   "outputs": [
    {
     "output_type": "stream",
     "name": "stdout",
     "text": [
      "3\n"
     ]
    },
    {
     "output_type": "execute_result",
     "data": {
      "text/plain": [
       "'if a >= 0 and b >= 0 and c >= 0:\\n    print(\"Factorail of\", a, \"is\", factorial(a))\\n    print(\"Factorail of\", b, \"is\", factorial(b))\\n    print(\"Factorail of\", c, \"is\", factorial(c))\\nelse:\\n    print(\"You have to enter the numbers again since you entered a negative number\")\\n    a = int(input(\"Enter whole number 1: \"))\\n    b = int(input(\"Enter whole number 2: \"))\\n    c = int(input(\"Enter whole number 3: \"))\\n    print(\"Factorail of\", a, \"is\", factorial(a))\\n    print(\"Factorail of\", b, \"is\", factorial(b))\\n    print(\"Factorail of\", c, \"is\", factorial(c))'"
      ]
     },
     "metadata": {},
     "execution_count": 2
    }
   ],
   "source": [
    "lst = list()\n",
    "for i in range(3):\n",
    "    a = int(input())\n",
    "    lst.append(a)\n",
    "'''a = int(input(\"Number 1: \"))\n",
    "b = int(input(\"Number 2: \"))\n",
    "c = int(input(\"Number 3: \"))'''\n",
    "\n",
    "'''def factorial(a):\n",
    "    if a == 0:\n",
    "        return 1\n",
    "    elif a == 1:\n",
    "        return 1\n",
    "    return a * factorial(a - 1)''' \n",
    "\n",
    "'''if (a > b and a > c):\n",
    "    print(a, \"is largest\")\n",
    "elif (b > a and b > c):\n",
    "    print(b, \"is largest\")\n",
    "else:\n",
    "    print(c, \"is largest\")'''\n",
    "\n",
    "\n",
    "print(max(lst))\n",
    "'''if a >= 0 and b >= 0 and c >= 0:\n",
    "    print(\"Factorail of\", a, \"is\", factorial(a))\n",
    "    print(\"Factorail of\", b, \"is\", factorial(b))\n",
    "    print(\"Factorail of\", c, \"is\", factorial(c))\n",
    "else:\n",
    "    print(\"You have to enter the numbers again since you entered a negative number\")\n",
    "    a = int(input(\"Enter whole number 1: \"))\n",
    "    b = int(input(\"Enter whole number 2: \"))\n",
    "    c = int(input(\"Enter whole number 3: \"))\n",
    "    print(\"Factorail of\", a, \"is\", factorial(a))\n",
    "    print(\"Factorail of\", b, \"is\", factorial(b))\n",
    "    print(\"Factorail of\", c, \"is\", factorial(c))'''"
   ]
  },
  {
   "cell_type": "code",
   "execution_count": 1,
   "metadata": {
    "tags": []
   },
   "outputs": [
    {
     "output_type": "stream",
     "name": "stdout",
     "text": "1. Decimal to binary\n2. Exit\nBinary equivalent of 69 is 1000101\n1. Decimal to binary\n2. Exit\n"
    }
   ],
   "source": [
    "\n",
    "while True:\n",
    "    print(\"1. Decimal to binary\")\n",
    "    print(\"2. Exit\")\n",
    "    b = int(input(\"Enter your choice: \"))\n",
    "    if b == 1:\n",
    "        a = int(input(\"Enter whole number: \"))\n",
    "\n",
    "        def dec_to_bin(d):\n",
    "            if d > 1:\n",
    "                dec_to_bin(d // 2)\n",
    "            print(d % 2, end = '')\n",
    "\n",
    "        print(\"Binary equivalent of\", a, \"is\", end = \" \")\n",
    "        dec_to_bin(a)\n",
    "        print()\n",
    "\n",
    "    elif b == 2:\n",
    "        break\n",
    "\n",
    "    else:\n",
    "        print(\"wrong choice\")"
   ]
  },
  {
   "cell_type": "code",
   "execution_count": 4,
   "metadata": {
    "tags": []
   },
   "outputs": [
    {
     "output_type": "stream",
     "name": "stdout",
     "text": "Enter -1 to exit\n33,45,69,-1\n\nTotal odd numbers: 3\nSum of odd numbers: 146\nAverage of odd numbers: 48.7\n"
    }
   ],
   "source": [
    "a = b = c = 0\n",
    "\n",
    "print(\"Enter -1 to exit\")\n",
    "while b != -1:\n",
    "    b = int(input(\"Enter integer: \"))\n",
    "    if b != -1:\n",
    "        print(b, end = \", \")\n",
    "    elif b == -1:\n",
    "        print(b)\n",
    "    if b == 1:\n",
    "        c = c + 1\n",
    "    if b % 2 != 0:\n",
    "        a = a + 1\n",
    "        c = c + b\n",
    "\n",
    "print()\n",
    "if a > 1:\n",
    "    print(\"Total odd numbers:\", a - 1)\n",
    "    print(\"Sum of odd numbers:\", c)\n",
    "    print(\"Average of odd numbers: {:.3}\".format(c / (a - 1)))\n",
    "else:\n",
    "    print(\"No numbers are entered except -1\")"
   ]
  },
  {
   "cell_type": "code",
   "execution_count": 2,
   "metadata": {
    "tags": []
   },
   "outputs": [
    {
     "output_type": "stream",
     "name": "stdout",
     "text": "Enter -1 to exit\n0 is not a power of 2\nEnter -1 to exit\n23 is not a power of 2\nEnter -1 to exit\n4 is a power of 2\nEnter -1 to exit\n"
    }
   ],
   "source": [
    "def power(n):\n",
    "    if n == 0:\n",
    "        return False\n",
    "    while n != 1:\n",
    "        if n % 2 != 0:\n",
    "            return False\n",
    "        n = n // 2\n",
    "    return True \n",
    "\n",
    "while True:\n",
    "    print(\"Enter -1 to exit\")\n",
    "    a = int(input(\"Enter a whole number: \"))\n",
    "    if a == -1:\n",
    "        break\n",
    "    else:\n",
    "        if power(a):\n",
    "            print(a, \"is a power of 2\")\n",
    "        else:\n",
    "            print(a, \"is not a power of 2\")\n",
    "        "
   ]
  },
  {
   "cell_type": "code",
   "execution_count": 3,
   "metadata": {},
   "outputs": [
    {
     "output_type": "stream",
     "name": "stdout",
     "text": [
      "3\n"
     ]
    }
   ],
   "source": [
    "lst = list()\n",
    "for i in range(3):\n",
    "    a = int(input(\"Enter integers: \"))\n",
    "    lst.append(a)\n",
    "print(\"Max:\", max(lst))"
   ]
  }
 ]
}