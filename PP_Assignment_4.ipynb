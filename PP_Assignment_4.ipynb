{
 "metadata": {
  "language_info": {
   "codemirror_mode": {
    "name": "ipython",
    "version": 3
   },
   "file_extension": ".py",
   "mimetype": "text/x-python",
   "name": "python",
   "nbconvert_exporter": "python",
   "pygments_lexer": "ipython3",
   "version": "3.8.5-final"
  },
  "orig_nbformat": 2,
  "kernelspec": {
   "name": "Python 3.8.5 32-bit",
   "display_name": "Python 3.8.5 32-bit",
   "metadata": {
    "interpreter": {
     "hash": "0f65c23eede5476679184682c503c84731cf692a5e00e0b01124a2cec60a7327"
    }
   }
  }
 },
 "nbformat": 4,
 "nbformat_minor": 2,
 "cells": [
  {
   "cell_type": "code",
   "execution_count": 11,
   "metadata": {
    "tags": []
   },
   "outputs": [],
   "source": [
    "import math\n",
    "def add(a, b):\n",
    "    return a + b\n",
    "def subtract(a, b):\n",
    "    return a - b\n",
    "def multiply(a, b):\n",
    "    return a * b\n",
    "def divide(a, b):\n",
    "    return a / b\n",
    "def power(a, b):\n",
    "    return(a ** b)\n",
    "def fac(a):\n",
    "    return math.factorial(a)\n",
    "\n",
    "def trig():\n",
    "    print(\"\\n\")\n",
    "    print(\"1. sin x\")\n",
    "    print(\"2. cos x\")\n",
    "    print(\"3. tan x\")\n",
    "    a = int(input(\"Enter your choice: \"))\n",
    "    if a == 1:\n",
    "        b = float(input(\"Enter degrees: \"))\n",
    "        print(\"{} {:.3f} = {:.3f}\".format(\"sin\", b, math.sin(math.radians(b))))\n",
    "    elif a == 2:\n",
    "        b = float(input(\"Enter degrees: \"))\n",
    "        print(\"{} {:.3f} = {:.3f}\".format(\"cos\", b, math.cos(math.radians(b))))\n",
    "    elif a == 3:\n",
    "        b = float(input(\"Enter degrees: \"))\n",
    "        print(\"{} {:.3f} = {:.3f}\".format(\"tan\", b, math.tan(math.radians(b))))\n",
    "\n",
    "def inv():\n",
    "    print(\"\\n\")\n",
    "    print(\"1. sin inverse x\")\n",
    "    print(\"2. cos inverse x\")\n",
    "    print(\"3. tan inverse x\")\n",
    "    a = int(input(\"Enter your choice: \"))\n",
    "    if a == 1:\n",
    "        b = float(input(\"Enter degrees: \"))\n",
    "        print(\"{} {:.3f} = {:.3f}\".format(\"sin ^ -1\", b, math.asin(math.radians(b))))\n",
    "    elif a == 2:\n",
    "        b = float(input(\"Enter degrees: \"))\n",
    "        print(\"{} {:.3f} = {:.3f}\".format(\"cos ^ -1\", b, math.acos(math.radians(b))))\n",
    "    elif a == 3:\n",
    "        b = float(input(\"Enter degrees: \"))\n",
    "        print(\"{} {:.3f} = {:.3f}\".format(\"tan ^ -1\", b, math.atan(math.radians(b))))\n",
    "\n",
    "def thm(a):\n",
    "    return math.log(a)\n",
    "\n",
    "def th(a):\n",
    "    return math.log10(a)\n",
    "\n",
    "def t(a, b):\n",
    "    return math.log(a,b)\n"
   ]
  },
  {
   "cell_type": "code",
   "execution_count": null,
   "metadata": {},
   "outputs": [],
   "source": []
  },
  {
   "cell_type": "code",
   "execution_count": 2,
   "metadata": {
    "tags": []
   },
   "outputs": [
    {
     "output_type": "stream",
     "name": "stdout",
     "text": "1. Add\n2. Subtract\n3. Multiply\n4. Divide\n5. Power of a number\n6. Factorial\n7. Trigonometric functions\n8. Inverse triginomeetric functions\n9. Natural log (ln)\n10. log\n11. log to any base\n12. Exit\n"
    },
    {
     "output_type": "error",
     "ename": "NameError",
     "evalue": "name 'fac' is not defined",
     "traceback": [
      "\u001b[1;31m---------------------------------------------------------------------------\u001b[0m",
      "\u001b[1;31mNameError\u001b[0m                                 Traceback (most recent call last)",
      "\u001b[1;32m<ipython-input-2-472b80384a08>\u001b[0m in \u001b[0;36m<module>\u001b[1;34m\u001b[0m\n\u001b[0;32m     35\u001b[0m     \u001b[1;32melif\u001b[0m \u001b[0mchoice\u001b[0m \u001b[1;33m==\u001b[0m \u001b[1;36m6\u001b[0m\u001b[1;33m:\u001b[0m\u001b[1;33m\u001b[0m\u001b[1;33m\u001b[0m\u001b[0m\n\u001b[0;32m     36\u001b[0m         \u001b[0mnumber_3\u001b[0m \u001b[1;33m=\u001b[0m \u001b[0mint\u001b[0m\u001b[1;33m(\u001b[0m\u001b[0minput\u001b[0m\u001b[1;33m(\u001b[0m\u001b[1;34m\"Enter a whole number: \"\u001b[0m\u001b[1;33m)\u001b[0m\u001b[1;33m)\u001b[0m\u001b[1;33m\u001b[0m\u001b[1;33m\u001b[0m\u001b[0m\n\u001b[1;32m---> 37\u001b[1;33m         \u001b[0mprint\u001b[0m\u001b[1;33m(\u001b[0m\u001b[1;34m\"\\n{}! = {}\"\u001b[0m\u001b[1;33m.\u001b[0m\u001b[0mformat\u001b[0m\u001b[1;33m(\u001b[0m\u001b[0mnumber_3\u001b[0m\u001b[1;33m,\u001b[0m \u001b[0mfac\u001b[0m\u001b[1;33m(\u001b[0m\u001b[0mnumber_3\u001b[0m\u001b[1;33m)\u001b[0m\u001b[1;33m)\u001b[0m\u001b[1;33m)\u001b[0m\u001b[1;33m\u001b[0m\u001b[1;33m\u001b[0m\u001b[0m\n\u001b[0m\u001b[0;32m     38\u001b[0m     \u001b[1;32melif\u001b[0m \u001b[0mchoice\u001b[0m \u001b[1;33m==\u001b[0m \u001b[1;36m7\u001b[0m\u001b[1;33m:\u001b[0m\u001b[1;33m\u001b[0m\u001b[1;33m\u001b[0m\u001b[0m\n\u001b[0;32m     39\u001b[0m         \u001b[0mtrig\u001b[0m\u001b[1;33m(\u001b[0m\u001b[1;33m)\u001b[0m\u001b[1;33m\u001b[0m\u001b[1;33m\u001b[0m\u001b[0m\n",
      "\u001b[1;31mNameError\u001b[0m: name 'fac' is not defined"
     ]
    }
   ],
   "source": [
    "while True:\n",
    "    print(\"1. Add\")\n",
    "    print(\"2. Subtract\")\n",
    "    print(\"3. Multiply\")\n",
    "    print(\"4. Divide\")\n",
    "    print(\"5. Power of a number\")\n",
    "    print(\"6. Factorial\")\n",
    "    print(\"7. Trigonometric functions\")\n",
    "    print(\"8. Inverse triginomeetric functions\")\n",
    "    print(\"9. Natural log (ln)\")\n",
    "    print(\"10. log\")\n",
    "    print(\"11. log to any base\")\n",
    "    print(\"12. Exit\")\n",
    "    choice = int(input(\"Enter your choice: \"))\n",
    "    if choice == 1:\n",
    "        number_1 = float(input(\"Enter float 1: \"))\n",
    "        number_2 = float(input(\"Enter float 2: \"))\n",
    "        print(\"\\n{} + {} = {:.3f}\".format(number_1, number_2, add(number_1, number_2)))\n",
    "    elif choice == 2:\n",
    "        number_1 = float(input(\"Enter float 1: \"))\n",
    "        number_2 = float(input(\"Enter float 2: \"))\n",
    "        print(\"\\n{} - {} = {:.3f}\".format(number_1, number_2, subtract(number_1, number_2)))\n",
    "    elif choice == 3:\n",
    "        number_1 = float(input(\"Enter float 1: \"))\n",
    "        number_2 = float(input(\"Enter float 2: \"))\n",
    "        print(\"\\n{} x {} = {:.3f}\".format(number_1, number_2, multiply(number_1, number_2)))\n",
    "    elif choice == 4:\n",
    "        number_1 = float(input(\"Enter float 1: \"))\n",
    "        number_2 = float(input(\"Enter float 2: \"))\n",
    "        print(\"\\n{} / {} = {:.3f}\".format(number_1, number_2, divide(number_1, number_2)))\n",
    "    elif choice == 5:\n",
    "        number_1 = float(input(\"Enter the float: \"))\n",
    "        number_2 = float(input(\"Enter the power: \"))\n",
    "        print(\"\\n{} raised to {}: {:.3f}\".format(number_1, number_2, power(number_1, number_2)))\n",
    "    elif choice == 6:\n",
    "        number_3 = int(input(\"Enter a whole number: \"))\n",
    "        print(\"\\n{}! = {}\".format(number_3, fac(number_3)))\n",
    "    elif choice == 7:\n",
    "        trig()\n",
    "    elif choice == 8:\n",
    "        inv()\n",
    "    elif choice == 9:\n",
    "        number_1 = float(input(\"Enter the number: \"))\n",
    "        print(\"\\n{} {:.3f} = {:.3f}\".format(\"ln\", number_1, thm(number_1)))\n",
    "    elif choice == 10:\n",
    "        number_1 = float(input(\"Enter the number: \"))\n",
    "        print(\"\\n{} {:.3f} = {:.3f}\".format(\"log\", number_1, th(number_1)))\n",
    "    elif choice == 11:\n",
    "        number_1 = float(input(\"Enter the number: \"))\n",
    "        number_3 = int(input(\"Enter natural number as base: \"))\n",
    "        print(\"\\n{} {:.3f} to the base {} = {:.3f}\".format(\"log\", number_1, number_3, t(number_1, number_3)))\n",
    "    elif choice == 12:\n",
    "        print(\"Thank you\")\n",
    "        break"
   ]
  },
  {
   "cell_type": "code",
   "execution_count": 13,
   "metadata": {
    "tags": []
   },
   "outputs": [
    {
     "output_type": "stream",
     "name": "stdout",
     "text": "65\n"
    }
   ],
   "source": [
    "def reverse(a):\n",
    "    print(a[::-1])\n",
    "a = input(\"Enter a whole number: \")\n",
    "reverse(a)"
   ]
  },
  {
   "cell_type": "code",
   "execution_count": 10,
   "metadata": {
    "tags": []
   },
   "outputs": [
    {
     "output_type": "stream",
     "name": "stdout",
     "text": "Enter -1 to exit\n23 is a prime number\nEnter -1 to exit\n43 is a prime number\nEnter -1 to exit\n45 is a composite number\nEnter -1 to exit\n63 is a composite number\nEnter -1 to exit\n13 is a prime number\nEnter -1 to exit\n12 is a composite number\nEnter -1 to exit\n"
    }
   ],
   "source": [
    "def is_prime(a):\n",
    "    f = 0\n",
    "    if a == 1:\n",
    "        return -1\n",
    "    for i in range(1,10):\n",
    "        if a % i == 0:\n",
    "            f = f + 1 \n",
    "    if f > 2:\n",
    "        return 0\n",
    "    return 1\n",
    "\n",
    "while True:\n",
    "    print(\"Enter -1 to exit\")\n",
    "    number = int(input(\"Enter a whole number: \"))\n",
    "    ret = is_prime(number)\n",
    "    if number == -1:\n",
    "        break\n",
    "    if ret == -1:\n",
    "        print(number, \"is neither prime nor composite\")\n",
    "    elif ret == 1:\n",
    "        print(number, \"is a prime number\")\n",
    "    elif ret == 0:\n",
    "        print(number, \"is a composite number\")"
   ]
  },
  {
   "cell_type": "code",
   "execution_count": 3,
   "metadata": {
    "tags": []
   },
   "outputs": [
    {
     "output_type": "stream",
     "name": "stdout",
     "text": "Enter -1 to exit\nFebruary\nEnter -1 to exit\nMarch\nEnter -1 to exit\nMay\nEnter -1 to exit\nSeptember\nEnter -1 to exit\nDecember\nEnter -1 to exit\n"
    }
   ],
   "source": [
    "while True:\n",
    "    print(\"Enter -1 to exit\")\n",
    "    a = int(input(\"Enter a natural number: \"))\n",
    "    lst = [\"January\", \"February\", \"March\", \"April\", \"May\",\n",
    "            \"June\", \"July\", \"August\", \"September\", \"October\",\n",
    "            \"November\", \"December\"]\n",
    "    if a == -1:\n",
    "        break\n",
    "    if a > 12:\n",
    "        print(\"Number greater than 12 entered\")\n",
    "    print(lst[a - 1])"
   ]
  },
  {
   "cell_type": "code",
   "execution_count": 14,
   "metadata": {
    "tags": []
   },
   "outputs": [
    {
     "output_type": "stream",
     "name": "stdout",
     "text": "Enter exit to exit\nTrue\nEnter exit to exit\nTrue\nEnter exit to exit\nFalse\nEnter exit to exit\n"
    }
   ],
   "source": [
    "def is_sorted(b):\n",
    "    lst_1 = sorted(b)\n",
    "    lst_2 = sorted(b, reverse = True)\n",
    "    if lst_1 == b or lst_2 == b:\n",
    "        return True\n",
    "    return False\n",
    "\n",
    "while True:\n",
    "    print(\"Enter exit to exit\")\n",
    "    a = input(\"Enter the three integers: \")\n",
    "    b = a.split()\n",
    "    if a == \"exit\":\n",
    "        break\n",
    "    print(is_sorted(b))"
   ]
  },
  {
   "cell_type": "code",
   "execution_count": 4,
   "metadata": {},
   "outputs": [
    {
     "output_type": "stream",
     "name": "stdout",
     "text": [
      "hello\n"
     ]
    },
    {
     "output_type": "error",
     "ename": "IndexError",
     "evalue": "list index out of range",
     "traceback": [
      "\u001b[1;31m---------------------------------------------------------------------------\u001b[0m",
      "\u001b[1;31mIndexError\u001b[0m                                Traceback (most recent call last)",
      "\u001b[1;32m<ipython-input-4-6669e7cd837f>\u001b[0m in \u001b[0;36m<module>\u001b[1;34m\u001b[0m\n\u001b[0;32m      8\u001b[0m \u001b[0mlst\u001b[0m \u001b[1;33m=\u001b[0m \u001b[0mlist\u001b[0m\u001b[1;33m(\u001b[0m\u001b[1;33m)\u001b[0m\u001b[1;33m\u001b[0m\u001b[1;33m\u001b[0m\u001b[0m\n\u001b[0;32m      9\u001b[0m \u001b[0mlst\u001b[0m \u001b[1;33m=\u001b[0m \u001b[0ma\u001b[0m\u001b[1;33m.\u001b[0m\u001b[0msplit\u001b[0m\u001b[1;33m(\u001b[0m\u001b[1;33m)\u001b[0m\u001b[1;33m\u001b[0m\u001b[1;33m\u001b[0m\u001b[0m\n\u001b[1;32m---> 10\u001b[1;33m \u001b[0mrev\u001b[0m\u001b[1;33m(\u001b[0m\u001b[0mlst\u001b[0m\u001b[1;33m,\u001b[0m \u001b[0mlen\u001b[0m\u001b[1;33m(\u001b[0m\u001b[0mlst\u001b[0m\u001b[1;33m)\u001b[0m\u001b[1;33m)\u001b[0m\u001b[1;33m\u001b[0m\u001b[1;33m\u001b[0m\u001b[0m\n\u001b[0m",
      "\u001b[1;32m<ipython-input-4-6669e7cd837f>\u001b[0m in \u001b[0;36mrev\u001b[1;34m(l, n)\u001b[0m\n\u001b[0;32m      4\u001b[0m         \u001b[0mprint\u001b[0m\u001b[1;33m(\u001b[0m\u001b[0ml\u001b[0m\u001b[1;33m[\u001b[0m\u001b[0mi\u001b[0m\u001b[1;33m]\u001b[0m\u001b[1;33m)\u001b[0m\u001b[1;33m\u001b[0m\u001b[1;33m\u001b[0m\u001b[0m\n\u001b[0;32m      5\u001b[0m         \u001b[0mi\u001b[0m \u001b[1;33m=\u001b[0m \u001b[0mi\u001b[0m \u001b[1;33m+\u001b[0m \u001b[1;36m1\u001b[0m\u001b[1;33m\u001b[0m\u001b[1;33m\u001b[0m\u001b[0m\n\u001b[1;32m----> 6\u001b[1;33m         \u001b[0mrev\u001b[0m\u001b[1;33m(\u001b[0m\u001b[0ml\u001b[0m\u001b[1;33m[\u001b[0m\u001b[0mi\u001b[0m\u001b[1;33m]\u001b[0m\u001b[1;33m)\u001b[0m\u001b[1;33m\u001b[0m\u001b[1;33m\u001b[0m\u001b[0m\n\u001b[0m\u001b[0;32m      7\u001b[0m \u001b[0ma\u001b[0m \u001b[1;33m=\u001b[0m \u001b[0minput\u001b[0m\u001b[1;33m(\u001b[0m\u001b[1;34m\"Enter a string: \"\u001b[0m\u001b[1;33m)\u001b[0m\u001b[1;33m\u001b[0m\u001b[1;33m\u001b[0m\u001b[0m\n\u001b[0;32m      8\u001b[0m \u001b[0mlst\u001b[0m \u001b[1;33m=\u001b[0m \u001b[0mlist\u001b[0m\u001b[1;33m(\u001b[0m\u001b[1;33m)\u001b[0m\u001b[1;33m\u001b[0m\u001b[1;33m\u001b[0m\u001b[0m\n",
      "\u001b[1;31mIndexError\u001b[0m: list index out of range"
     ]
    }
   ],
   "source": [
    "def rev(l, n):\n",
    "    i = 0\n",
    "    if i < n:\n",
    "        print(l[i])\n",
    "        i = i + 1\n",
    "        rev(l[i])\n",
    "a = input(\"Enter a string: \")\n",
    "lst = list()\n",
    "lst = a.split()\n",
    "rev(lst, len(lst))"
   ]
  },
  {
   "cell_type": "code",
   "execution_count": null,
   "metadata": {},
   "outputs": [],
   "source": [
    "while True:\n",
    "    print(\"Enter -1 to exit\")\n",
    "    a = int(input(\"Enter a natural number: \"))\n",
    "    d = {1:\"January\", 2:\"February\", 3:\"March\"}\n",
    "    if a == -1:\n",
    "        break\n",
    "    if a > 12:\n",
    "        print(\"Number greater than 12 entered\")\n",
    "    print(d[a])"
   ]
  }
 ]
}