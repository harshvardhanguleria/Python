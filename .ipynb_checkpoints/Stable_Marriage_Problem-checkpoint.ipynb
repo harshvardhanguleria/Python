{
 "cells": [
  {
   "cell_type": "code",
   "execution_count": null,
   "metadata": {},
   "outputs": [],
   "source": [
    "'''Stable Marriage Problem based on Gale Shapley Algorithm.\n",
    "   Number of boys and girls is 4 each'''\n",
    "n = 4"
   ]
  },
  {
   "cell_type": "code",
   "execution_count": null,
   "metadata": {},
   "outputs": [],
   "source": [
    "# def stable_marriage_problem(): \n",
    "    "
   ]
  },
  {
   "cell_type": "code",
   "execution_count": null,
   "metadata": {},
   "outputs": [],
   "source": [
    "lst = lst_1 = list()\n",
    "for i in range(2 * n):\n",
    "    if i < n:\n",
    "        for j in range(n):\n",
    "            a = int(input(\"\\n\\t\", j + 1, \"preference for\", j, \"from 4, 5, 6, 7: \"))\n",
    "            lst_1.append(a)\n",
    "    else:\n",
    "        for j in range(n):\n",
    "            a = int(input(\"\\n\\t\", j + 1, \"preference for\", j + n, \"from 0, 1, 2, 3: \"))\n",
    "            lst_1.append(a)\n",
    "    lst.append(lst)\n",
    "print(lst)"
   ]
  }
 ],
 "metadata": {
  "kernelspec": {
   "display_name": "Python 3",
   "language": "python",
   "name": "python3"
  }
 },
 "nbformat": 4,
 "nbformat_minor": 4
}
